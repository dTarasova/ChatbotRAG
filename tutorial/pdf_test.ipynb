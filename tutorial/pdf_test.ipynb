{
 "cells": [
  {
   "cell_type": "code",
   "execution_count": 1,
   "metadata": {},
   "outputs": [],
   "source": [
    "from langchain_community.document_loaders import PyPDFLoader\n",
    "from langchain_community.vectorstores import DocArrayInMemorySearch\n",
    "from langchain_openai.embeddings import OpenAIEmbeddings\n",
    "AMDIRE_PDF_PATH = \"test_data/amdire.pdf\"\n",
    "\n",
    "loader = PyPDFLoader(AMDIRE_PDF_PATH)\n",
    "\n",
    "pages = loader.load_and_split()\n",
    "\n",
    "embeddings = OpenAIEmbeddings()\n",
    "vectorstore = DocArrayInMemorySearch.from_documents(pages, embedding=embeddings)\n"
   ]
  },
  {
   "cell_type": "code",
   "execution_count": 7,
   "metadata": {},
   "outputs": [
    {
     "data": {
      "text/plain": [
       "[Document(page_content='The AMDiRE Approach 15\\nfaces. While we consider the context and the requirements speciﬁcation to\\naddress the problem space, the system speciﬁcation addresses the solution\\nspace and is the interface to tie in with the design phase.\\nFigure 5 shows the artefact types in relation to roles and responsibilities\\n(left side) and in relation to milestones (right side) which we use to integrate\\nthe model into a process.\\nRole ModelProcess ModelProject Scope deﬁned\\nSystem SpeciﬁcationacceptedBusiness AnalystRequirementsEngineerSystem ArchitectArchitectureOverviewdeﬁnedRequirementsSpeciﬁcationacceptedSystem VisiondeﬁnedContextSpeciﬁcationacceptedContext Speciﬁcation\\nSystem SpeciﬁcationRequirements Speciﬁcation\\nFig. 5: Overview of artefacts types, roles, and milestones.\\nFor each artefact type, we deﬁne one particular role, which has the respon-\\nsibility for an artefact type, independent of other potentially supporting roles\\nprovided by the software process model (e.g., quality manager), and indepen-\\ndent of whether same persons are assigned to diﬀerent roles in a project.\\n1. The Business Analyst has the responsibility for the context speciﬁcation\\nand is expected to have the necessary domain knowledge, e.g. regarding\\nthe business processes, typical stakeholders, or constraints and rules.\\n2. The Requirements Engineer has the responsibility for the requirements\\nspeciﬁcation and serves also as a mediator between the business analyst\\nand the system architect.\\n3. The System Architect has the responsibility for the system speciﬁcation\\nand is expected to have technical knowledge. In dependency to the appli-\\ncation domain, we can further distinguish between a role for the logical\\narchitecture and a role for the technical architecture (e.g. in the area of\\nbusiness information systems).\\nFor each artefact type, we furthermore deﬁne two milestones. The ﬁrst mile-\\nstone deﬁnes the point in time in which the ﬁrst content item is deﬁned, thus,\\nreﬂecting a certain maturity of the content in the artefact as the ﬁrst content', metadata={'source': 'test_data/amdire.pdf', 'page': 14}),\n",
       " Document(page_content='The AMDiRE Approach 29\\na far more comprehensive concept model capturing all particularities of the\\nappellation domain, which, in turn, implies a stronger learning curve.\\nAn overview of the rating of the closed questions from our automotive\\npartner BMW is depicted in Fig. 12(a) and 12(b) and from our avionics partner\\nCassidian in Fig. 12(c) and 12(d). For reasons of illustration, the centre of the\\nKiviat diagram is labelled again with the value of zero instead of one, since\\notherwise the data points would overlap in the center.\\n(a) Applicability evaluation at BMW\\n (b) Artefact evaluation at BMW\\n(c) Applicability evaluation at Cassidian\\n (d) Artefact evaluation at Cassidian\\nFig. 12: Results from the ARAMiS case studies with BMW and Cassidian.\\nBoth partners seem to perceive the ARAMiS artefact model as improve-\\nment in comparison to their previous reference model. The business units at\\nboth companies have also incorporated the artefact model into their stan-\\ndard. On ﬁrst glance, the rating was more critical for both their own and the\\nARAMiS model by the automotive partner. When analysing the answers to\\nthe open questions (the rationale for their ratings), we found that some of the\\nreasons given for a speciﬁc rating were quite similar, but rated rather diﬀer-\\nently. For example, for traceability, both stated that their own reference model\\nprovided the possibility to link requirements, but did not provide the possi-\\nbility to document a rationale. At the same time, their rating of 1 at BMW\\nversus the higher rating of 5 at Cassidian for the criterion Traceability shows', metadata={'source': 'test_data/amdire.pdf', 'page': 28}),\n",
       " Document(page_content='32 D. M´ endez Fern´ andez, B. Penzenstadler\\n0\"1\"2\"3\"4\"5\"6\"Flexibility\"Ease\"of\"Use\"Eﬀec9vity\"\\nEﬃciency\"Customisa9on\"Process\"Integra9on\"Stucturedness\"Artefacts\"Syntac9c\"Quality\"Traceability\"Artefacts\"Seman9c\"Quality\"Testability\"\\nArtIb\"RE\"Previous\"Apr.\"\\nFig. 13: Results from case study at Wacker.\\nwith the previously conducted case studies where the ARAMiS model resulted\\nto be better rated than the BISA model due to:\\n1. providing a less complex structure model that does not focus too much on\\nparticularities of single application domains, while\\n2. hiding the remaining complexity of the underlying concept model with its\\na directly applicable tool environment.\\nAlthough the AMDiRE approach covers both characteristics, we have now\\nreached the point where we need to conduct external evaluations by unbiased\\nresearchers and practitioners not involved in the development of AMDiRE (see\\nalso the research method in the introduction on page 4). This will also show to\\nwhat extent AMDiRE can be used by others and what exact eﬀects this will\\nhave on aspects negatively rated at Wacker (relating to the learning curve).\\nTo this end, we make publicly accessible the tools, the models, and the\\nexamples as well as the evaluation templates related to AMDiRE [37] and\\nencourage researchers and practitioners to critically discuss and evaluate our\\napproach in external contexts.\\nThe article at hand thus builds the ﬁrst step in the dissemination of our\\nresearch results not only into practical environments with isolated problems\\nand goals, but also back into the research community.', metadata={'source': 'test_data/amdire.pdf', 'page': 31}),\n",
       " Document(page_content='26 D. M´ endez Fern´ andez, B. Penzenstadler\\n2. The development of training and coaching material as well as tool support.\\n3. The supervision of pilot projects and coaching during those pilot studies.\\n4. More general, a missing willingness to organisational change we could ob-\\nserve in the projects as project participants were confronted with complex\\nmodels and needed a longer learning curve to understand the basic concepts\\nand tailoring mechanisms.\\n5.2 Evaluations: Results from Industrial Case Studies\\nWe performed a series of evaluations with the previously developed artefact\\nmodels on which AMDiRE relies. We complement this evaluation with a case\\nstudy where we directly used AMDiRE as a reference model to establish\\na company-speciﬁc artefact-based RE approach following the principles de-\\nscribed in the previous Sect. 5.1.\\n5.2.1 Summary of Previously Conducted Comparative Case Studies\\nWe have performed three comparative, industrial case studies that we brieﬂy\\ndiscuss with regard to their results. These studies each evaluated an artefact-\\nbased approach in direct comparison to the formerly used activity-based ap-\\nproach and were performed with partners at Siemens, BMW, and Cassidian.\\nTable 4 provides the type of studies and their major results.\\nIn the following, we summarise those previously published case study de-\\nsigns and results relevant to the context of the article while details on the study\\ndesigns and the full results can be taken from references listed in Table 4.\\nTable 4: Comparative industrial case studies.\\nStudy Approach Partner Results\\nTraﬃc Lights\\nManagment Sys-\\ntem#A Siemens\\n(2011)Improvement of, inter alia, syntactic con-\\nsistency and completeness, ease of use, ef-\\nfectivity, structuredness and ease percep-\\ntion [42]\\nIntelligent Info-\\ntainment Systems\\n(IIS)#B BMW\\n(2012)Improvement of eﬀectivity, productivity,\\nand adequacy [54, 52]\\nUnmanned Air-\\ncraft System\\n(UAS)#B Cassidian\\n(2012)Improvement of ease of use, eﬀectivity,\\nunambiguousness and adequacy [54, 52]\\n5.2.2 Case Study Designs Overview\\nAs shown in Table 3 and in Sect. 3 introducing the previously developed\\nmodels, we initiated our case studies with smaller studies at Capgemini TS', metadata={'source': 'test_data/amdire.pdf', 'page': 25})]"
      ]
     },
     "execution_count": 7,
     "metadata": {},
     "output_type": "execute_result"
    }
   ],
   "source": [
    "retriever = vectorstore.as_retriever()\n",
    "\n",
    "retriever.invoke(\"role of busyness analyst\")"
   ]
  },
  {
   "cell_type": "code",
   "execution_count": 8,
   "metadata": {},
   "outputs": [],
   "source": [
    "from langchain.prompts import ChatPromptTemplate\n",
    "\n",
    "template = \"\"\"\n",
    "Answer the question based on the context below. If you can't \n",
    "answer the question, reply \"I don't know\".\n",
    "\n",
    "Context: {context}\n",
    "\n",
    "Question: {question}\n",
    "\"\"\"\n",
    "\n",
    "prompt = ChatPromptTemplate.from_template(template)"
   ]
  },
  {
   "cell_type": "code",
   "execution_count": 9,
   "metadata": {},
   "outputs": [],
   "source": [
    "from langchain_openai import ChatOpenAI\n",
    "import dotenv\n",
    "dotenv.load_dotenv()\n",
    "\n",
    "chat_model = ChatOpenAI(\n",
    "    model=\"gpt-3.5-turbo-1106\",\n",
    "    temperature=0\n",
    ")"
   ]
  },
  {
   "cell_type": "code",
   "execution_count": 10,
   "metadata": {},
   "outputs": [],
   "source": [
    "from langchain_core.runnables import RunnablePassthrough\n",
    "\n",
    "chain = (\n",
    "    {\"context\": retriever, \"question\": RunnablePassthrough()}\n",
    "    | prompt\n",
    "    | chat_model\n",
    " | \n",
    ")\n"
   ]
  },
  {
   "cell_type": "code",
   "execution_count": 12,
   "metadata": {},
   "outputs": [
    {
     "data": {
      "text/plain": [
       "AIMessage(content='The main responsibilities of a Business Analyst in requirements engineering include having the necessary domain knowledge, such as understanding the business processes, typical stakeholders, and constraints and rules.', response_metadata={'token_usage': {'completion_tokens': 32, 'prompt_tokens': 2854, 'total_tokens': 2886}, 'model_name': 'gpt-3.5-turbo-1106', 'system_fingerprint': None, 'finish_reason': 'stop', 'logprobs': None}, id='run-50aaf7c2-7aab-4943-96ba-5fae3be145cb-0')"
      ]
     },
     "execution_count": 12,
     "metadata": {},
     "output_type": "execute_result"
    }
   ],
   "source": [
    "chain.invoke(\"What are the main responsibilities of busyness analyst in requirements engineering?\")"
   ]
  },
  {
   "cell_type": "code",
   "execution_count": null,
   "metadata": {},
   "outputs": [],
   "source": [
    "chain.stream # gradually shows text \n",
    "chain.batch # batch of questions give answers \n"
   ]
  },
  {
   "cell_type": "code",
   "execution_count": null,
   "metadata": {},
   "outputs": [],
   "source": []
  }
 ],
 "metadata": {
  "kernelspec": {
   "display_name": ".venv",
   "language": "python",
   "name": "python3"
  },
  "language_info": {
   "codemirror_mode": {
    "name": "ipython",
    "version": 3
   },
   "file_extension": ".py",
   "mimetype": "text/x-python",
   "name": "python",
   "nbconvert_exporter": "python",
   "pygments_lexer": "ipython3",
   "version": "3.12.0"
  }
 },
 "nbformat": 4,
 "nbformat_minor": 2
}
